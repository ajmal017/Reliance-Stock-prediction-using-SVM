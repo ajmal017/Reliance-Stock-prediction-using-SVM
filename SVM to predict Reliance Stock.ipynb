{
 "cells": [
  {
   "cell_type": "code",
   "execution_count": 61,
   "metadata": {},
   "outputs": [],
   "source": [
    "import numpy as np\n",
    "import pandas as pd\n",
    "import matplotlib.pyplot as plt\n",
    "import datetime as dt\n",
    "import pandas_datareader.data as web\n",
    "import talib\n",
    "from sklearn.preprocessing import StandardScaler\n",
    "\n",
    "def get_data(ticker):\n",
    "    start = dt.datetime(2009, 1, 1)\n",
    "    end = dt.datetime.now()\n",
    "    df = web.DataReader(ticker,'yahoo', start, end)\n",
    "    df.to_csv(ticker+'.csv')\n",
    "    \n",
    "get_data('RELIANCE.NS')"
   ]
  },
  {
   "cell_type": "code",
   "execution_count": 62,
   "metadata": {},
   "outputs": [
    {
     "data": {
      "text/plain": [
       "(2634, 7)"
      ]
     },
     "execution_count": 62,
     "metadata": {},
     "output_type": "execute_result"
    }
   ],
   "source": [
    "pd.read_csv('RELIANCE.NS.csv').shape"
   ]
  },
  {
   "cell_type": "code",
   "execution_count": 63,
   "metadata": {},
   "outputs": [
    {
     "data": {
      "text/plain": [
       "(array([[ 1.24990328, -0.25318244, -2.10975508, ...,  0.68610529,\n",
       "         -2.25878472, -0.75096482],\n",
       "        [ 0.58656108,  0.55909951, -2.05514846, ...,  1.00355479,\n",
       "         -2.21475089, -0.60958484],\n",
       "        [-0.1388872 , -0.17567447, -2.03235373, ...,  0.84622464,\n",
       "         -2.13745601, -0.477388  ],\n",
       "        ...,\n",
       "        [ 0.43399882,  1.20707064,  4.37786509, ...,  1.46602741,\n",
       "          4.12195834,  2.19843306],\n",
       "        [ 1.51569103, -2.00175908,  4.46754708, ...,  0.64526713,\n",
       "          4.21589455,  2.22327845],\n",
       "        [ 0.36991899,  0.25526678,  4.48040733, ...,  0.52958064,\n",
       "          4.60241203,  2.13800853]]),\n",
       " array([[-1.82774403e-02,  8.78433841e-01,  4.48033922e+00, ...,\n",
       "          1.04266058e+00,  4.60241203e+00,  2.11142855e+00],\n",
       "        [ 6.18674611e-01, -1.13057410e+00,  4.48231243e+00, ...,\n",
       "         -5.76140063e-02,  4.24219651e+00,  2.03866469e+00],\n",
       "        [ 3.43538047e-01,  1.24736872e+00,  4.49109003e+00, ...,\n",
       "          1.29259046e+00,  4.30245686e+00,  2.02745390e+00],\n",
       "        ...,\n",
       "        [ 3.50193577e+00, -3.00006771e+00,  1.01235661e+01, ...,\n",
       "         -2.28732857e-01,  9.83328006e+00, -9.26835093e-01],\n",
       "        [ 1.51945448e+00,  1.74341969e+00,  1.01970536e+01, ...,\n",
       "          7.63114218e-01,  9.85347840e+00, -9.70050309e-01],\n",
       "        [ 3.23810795e+00,  1.50205278e+02,  1.01650729e+01, ...,\n",
       "         -1.40049856e-01,  1.03214219e+01, -8.76603553e-01]]),\n",
       " 19      1\n",
       " 20      1\n",
       " 21      0\n",
       " 22      1\n",
       " 23      1\n",
       " 24      1\n",
       " 25      0\n",
       " 26      0\n",
       " 27      1\n",
       " 28      0\n",
       " 29      0\n",
       " 30      1\n",
       " 31      0\n",
       " 32      0\n",
       " 33      0\n",
       " 34      1\n",
       " 35      1\n",
       " 36      0\n",
       " 37      0\n",
       " 38      0\n",
       " 39      1\n",
       " 40      0\n",
       " 41      1\n",
       " 42      0\n",
       " 43      1\n",
       " 44      1\n",
       " 45      1\n",
       " 46      0\n",
       " 47      1\n",
       " 48      1\n",
       "        ..\n",
       " 2081    1\n",
       " 2082    1\n",
       " 2083    1\n",
       " 2084    1\n",
       " 2085    1\n",
       " 2086    1\n",
       " 2087    0\n",
       " 2088    0\n",
       " 2089    0\n",
       " 2090    1\n",
       " 2091    1\n",
       " 2092    1\n",
       " 2093    0\n",
       " 2094    1\n",
       " 2095    1\n",
       " 2096    1\n",
       " 2097    1\n",
       " 2098    1\n",
       " 2099    1\n",
       " 2100    1\n",
       " 2101    0\n",
       " 2102    1\n",
       " 2103    0\n",
       " 2104    1\n",
       " 2105    1\n",
       " 2106    0\n",
       " 2107    1\n",
       " 2108    0\n",
       " 2109    0\n",
       " 2110    1\n",
       " Name: Price_Rise, Length: 2092, dtype: int32,\n",
       " 2111    0\n",
       " 2112    1\n",
       " 2113    1\n",
       " 2114    0\n",
       " 2115    0\n",
       " 2116    0\n",
       " 2117    0\n",
       " 2118    0\n",
       " 2119    0\n",
       " 2120    1\n",
       " 2121    0\n",
       " 2122    1\n",
       " 2123    1\n",
       " 2124    0\n",
       " 2125    0\n",
       " 2126    1\n",
       " 2127    0\n",
       " 2128    0\n",
       " 2129    0\n",
       " 2130    1\n",
       " 2131    1\n",
       " 2132    1\n",
       " 2133    1\n",
       " 2134    1\n",
       " 2135    1\n",
       " 2136    0\n",
       " 2137    0\n",
       " 2138    1\n",
       " 2139    1\n",
       " 2140    1\n",
       "        ..\n",
       " 2604    1\n",
       " 2605    1\n",
       " 2606    0\n",
       " 2607    0\n",
       " 2608    0\n",
       " 2609    1\n",
       " 2610    1\n",
       " 2611    1\n",
       " 2612    1\n",
       " 2613    0\n",
       " 2614    1\n",
       " 2615    0\n",
       " 2616    0\n",
       " 2617    0\n",
       " 2618    1\n",
       " 2619    0\n",
       " 2620    1\n",
       " 2621    0\n",
       " 2622    0\n",
       " 2623    1\n",
       " 2624    0\n",
       " 2625    0\n",
       " 2626    0\n",
       " 2627    1\n",
       " 2628    0\n",
       " 2629    1\n",
       " 2630    0\n",
       " 2631    1\n",
       " 2632    0\n",
       " 2633    0\n",
       " Name: Price_Rise, Length: 523, dtype: int32)"
      ]
     },
     "execution_count": 63,
     "metadata": {},
     "output_type": "execute_result"
    }
   ],
   "source": [
    "def data_preprocessing(ticker):\n",
    "    dataset = pd.read_csv('{}.csv'.format(ticker))\n",
    "    dataset = dataset.dropna()\n",
    "    dataset = dataset[['Open', 'High', 'Low', 'Close']]\n",
    "    \n",
    "    dataset['H-L'] = dataset['High'] - dataset['Low']\n",
    "    dataset['O-C'] = dataset['Close'] - dataset['Open']\n",
    "    \n",
    "    dataset['ma_5'] = dataset['Close'].rolling(window=5).mean()\n",
    "    dataset['ma_10'] = dataset['Close'].rolling(window=10).mean()\n",
    "    \n",
    "    dataset['EWMA_12'] = dataset['Close'].ewm(span=12).mean()\n",
    "\n",
    "    dataset['std_5'] = dataset['Close'].rolling(window=5).std()\n",
    "    dataset['std_10'] = dataset['Close'].rolling(window=10).std()\n",
    "    \n",
    "    dataset['RSI'] = talib.RSI(dataset['Close'].values, timeperiod = 14)\n",
    "    dataset['Williams %R'] = talib.WILLR(dataset['High'].values, dataset['Low'].values, dataset['Close'].values, 7)\n",
    "    dataset['SAR'] = talib.SAR(np.array(dataset['High']), np.array(dataset['Low']), 0.2, 0.2)\n",
    "    dataset['ADX'] = talib.ADX(np.array(dataset['High']), np.array(dataset['Low']), np.array(dataset['Close']), 10)\n",
    "\n",
    "    dataset['Price_Rise'] = np.where(dataset['Close'].shift(-1) > dataset['Close'], 1, 0)\n",
    "    \n",
    "    dataset = dataset.dropna()\n",
    "    X = dataset.iloc[:, 4:-1]\n",
    "    y = dataset.iloc[:, -1]\n",
    "    \n",
    "    split = int(len(dataset)*0.8)\n",
    "    X_train, X_test, y_train, y_test = X[:split], X[split:], y[:split], y[split:]\n",
    "    \n",
    "    sc = StandardScaler()\n",
    "    X_train = sc.fit_transform(X_train)\n",
    "    X_test = sc.transform(X_test)\n",
    "    \n",
    "    return X_train, X_test, y_train, y_test\n",
    "\n",
    "data_preprocessing('RELIANCE.NS')"
   ]
  },
  {
   "cell_type": "code",
   "execution_count": 64,
   "metadata": {},
   "outputs": [
    {
     "name": "stdout",
     "output_type": "stream",
     "text": [
      "accuracy: 0.51434034416826\n",
      "predicted class counts: Counter({0: 469, 1: 54})\n"
     ]
    }
   ],
   "source": [
    "from sklearn import svm\n",
    "from collections import Counter\n",
    "\n",
    "def svm_linear(ticker):\n",
    "    X_train, X_test, y_train, y_test = data_preprocessing(ticker)\n",
    "    clf = svm.SVC(kernel = 'linear')\n",
    "    clf.fit(X_train, y_train)\n",
    "    confidence = clf.score(X_test, y_test)\n",
    "    print('accuracy:',confidence)\n",
    "    predictions = clf.predict(X_test)\n",
    "    print('predicted class counts:',Counter(predictions))\n",
    "    \n",
    "svm_linear('RELIANCE.NS')    "
   ]
  },
  {
   "cell_type": "code",
   "execution_count": 65,
   "metadata": {},
   "outputs": [
    {
     "name": "stdout",
     "output_type": "stream",
     "text": [
      "accuracy: 0.5315487571701721\n",
      "predicted class counts: Counter({1: 377, 0: 146})\n"
     ]
    }
   ],
   "source": [
    "def svm_poly(ticker):\n",
    "    X_train, X_test, y_train, y_test = data_preprocessing(ticker)\n",
    "    clf = svm.SVC(kernel = 'poly')\n",
    "    clf.fit(X_train, y_train)\n",
    "    confidence = clf.score(X_test, y_test)\n",
    "    print('accuracy:',confidence)\n",
    "    predictions = clf.predict(X_test)\n",
    "    print('predicted class counts:',Counter(predictions))\n",
    "    \n",
    "svm_poly('RELIANCE.NS')   "
   ]
  },
  {
   "cell_type": "code",
   "execution_count": 66,
   "metadata": {},
   "outputs": [
    {
     "name": "stdout",
     "output_type": "stream",
     "text": [
      "accuracy: 0.5200764818355641\n",
      "predicted class counts: Counter({0: 388, 1: 135})\n"
     ]
    }
   ],
   "source": [
    "def svm_rbf(ticker):\n",
    "    X_train, X_test, y_train, y_test = data_preprocessing(ticker)\n",
    "    clf = svm.SVC(kernel = 'rbf')\n",
    "    clf.fit(X_train, y_train)\n",
    "    confidence = clf.score(X_test, y_test)\n",
    "    print('accuracy:',confidence)\n",
    "    predictions = clf.predict(X_test)\n",
    "    print('predicted class counts:',Counter(predictions))\n",
    "    \n",
    "svm_rbf('RELIANCE.NS')  "
   ]
  }
 ],
 "metadata": {
  "kernelspec": {
   "display_name": "Python 3",
   "language": "python",
   "name": "python3"
  },
  "language_info": {
   "codemirror_mode": {
    "name": "ipython",
    "version": 3
   },
   "file_extension": ".py",
   "mimetype": "text/x-python",
   "name": "python",
   "nbconvert_exporter": "python",
   "pygments_lexer": "ipython3",
   "version": "3.7.0"
  }
 },
 "nbformat": 4,
 "nbformat_minor": 2
}
